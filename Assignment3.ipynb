{
 "cells": [
  {
   "cell_type": "code",
   "execution_count": 1,
   "id": "388da8b9-66ae-43e2-bdc9-c3e0a7b0bc6e",
   "metadata": {},
   "outputs": [
    {
     "name": "stdout",
     "output_type": "stream",
     "text": [
      "[('Virat Kohli', 24936), ('Jack Kallis', 25534), ('Ricky Ponting', 27483), ('Sachin Tendulkar', 34357)]\n"
     ]
    }
   ],
   "source": [
    " #Q1. Create a python program to sort the given list of tuples based on integer value using a\n",
    "# lambda function\n",
    "l=[('Sachin Tendulkar', 34357), ('Ricky Ponting', 27483), ('Jack Kallis', 25534), ('Virat Kohli', 24936)]\n",
    "print(sorted(l,key = lambda x:x[1]))"
   ]
  },
  {
   "cell_type": "code",
   "execution_count": 2,
   "id": "a3283c84-73e3-440a-9853-1597d9fb70d8",
   "metadata": {},
   "outputs": [
    {
     "name": "stdout",
     "output_type": "stream",
     "text": [
      "[1, 4, 9, 16, 25, 36, 49, 64, 81, 100]\n"
     ]
    }
   ],
   "source": [
    "# Q2. Write a Python Program to find the squares of all the numbers in the given list of integers using\n",
    "# lambda and map functions.\n",
    "l=[1, 2, 3, 4, 5, 6, 7, 8, 9, 10]\n",
    "print(list(map(lambda x : x**2, l)))"
   ]
  },
  {
   "cell_type": "code",
   "execution_count": 4,
   "id": "9e539fdd-948a-4749-811a-842efeb668e9",
   "metadata": {},
   "outputs": [
    {
     "name": "stdout",
     "output_type": "stream",
     "text": [
      "('1', '2', '3', '4', '5', '6', '7', '8', '9', '10')\n"
     ]
    }
   ],
   "source": [
    "# Q3. Write a python program to convert the given list of integers into a tuple of strings. Use map and\n",
    "# lambda functions\n",
    "# Given String: [1, 2, 3, 4, 5, 6, 7, 8, 9, 10]\n",
    "l2 =[1, 2, 3, 4, 5, 6, 7, 8, 9, 10]\n",
    "print(tuple(map(lambda x: str(x), l2)))"
   ]
  },
  {
   "cell_type": "code",
   "execution_count": 7,
   "id": "c4ca0383-d168-4bd0-9eed-50aac76cfbef",
   "metadata": {},
   "outputs": [
    {
     "name": "stdout",
     "output_type": "stream",
     "text": [
      "[1, 2, 3, 4, 5, 6, 7, 8, 9, 10, 11, 12, 13, 14, 15, 16, 17, 18, 19, 20, 21, 22, 23, 24, 25]\n",
      "the product of a my_list containing numbers from 1 to 25 is 15511210043330985984000000\n"
     ]
    }
   ],
   "source": [
    "# Q4. Write a python program using reduce function to compute the product of a list containing numbers\n",
    "# from 1 to 25.\n",
    "from functools import reduce\n",
    "my_list =[i for i in range(1,25+1)]\n",
    "print(my_list)\n",
    "print( 'the product of a my_list containing numbers from 1 to 25 is',reduce(lambda x,y:x*y,my_list))\n"
   ]
  },
  {
   "cell_type": "code",
   "execution_count": 8,
   "id": "b084744b-8d6b-449c-a178-319ab461fed6",
   "metadata": {},
   "outputs": [
    {
     "name": "stdout",
     "output_type": "stream",
     "text": [
      "[6, 60, 90, 120]\n"
     ]
    }
   ],
   "source": [
    "# Q5. Write a python program to filter the numbers in a given list that are divisible by 2 and 3 using the\n",
    "# filter function.\n",
    "l4 = [2, 3, 6, 9, 27, 60, 90, 120, 55, 46]\n",
    "print(list(filter(lambda x:x%3==0 and x%2==0, l4)))"
   ]
  },
  {
   "cell_type": "code",
   "execution_count": 10,
   "id": "764aa73d-4fca-4db7-9f92-fb864c6d3e31",
   "metadata": {},
   "outputs": [
    {
     "name": "stdout",
     "output_type": "stream",
     "text": [
      "This is the list of palindromes in test_case  ['php', 'aba', 'radar', 'level']\n"
     ]
    }
   ],
   "source": [
    "# Q6. Write a python program to find palindromes in the given list of strings using lambda and filter function.\n",
    "# ['python', 'php', 'aba', 'radar', 'level']\n",
    "test_case =['python', 'php', 'aba', 'radar', 'level']\n",
    "print(\"This is the list of palindromes in test_case \",list(filter(lambda x: x==\"\".join(reversed(x)), test_case)))"
   ]
  },
  {
   "cell_type": "code",
   "execution_count": null,
   "id": "cda026a9-d96c-431e-a920-d328979c8774",
   "metadata": {},
   "outputs": [],
   "source": []
  }
 ],
 "metadata": {
  "kernelspec": {
   "display_name": "Python 3 (ipykernel)",
   "language": "python",
   "name": "python3"
  },
  "language_info": {
   "codemirror_mode": {
    "name": "ipython",
    "version": 3
   },
   "file_extension": ".py",
   "mimetype": "text/x-python",
   "name": "python",
   "nbconvert_exporter": "python",
   "pygments_lexer": "ipython3",
   "version": "3.10.8"
  }
 },
 "nbformat": 4,
 "nbformat_minor": 5
}
